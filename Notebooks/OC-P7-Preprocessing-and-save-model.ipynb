{
 "cells": [
  {
   "cell_type": "code",
   "execution_count": 1,
   "id": "1b4557dd",
   "metadata": {},
   "outputs": [],
   "source": [
    "import numpy as np\n",
    "import pandas as pd\n",
    "import matplotlib.pyplot as plt\n",
    "import seaborn as sns\n",
    "from Functions import*"
   ]
  },
  {
   "cell_type": "code",
   "execution_count": 2,
   "id": "bca5dd89",
   "metadata": {},
   "outputs": [],
   "source": [
    "# Load data \n",
    "path = 'C:/Users/mina/Projets_CLASSROOMS/P7_Pret_Credit_Conso_VERGE-DEPRE_Thierry/data/'\n",
    "application = pd.read_csv(path + 'application_train.csv') \n",
    "bureau = pd.read_csv(path + 'bureau.csv') \n",
    "prev_application = pd.read_csv(path + 'previous_application.csv')\n",
    "application_test = pd.read_csv(path + 'application_test.csv')"
   ]
  },
  {
   "cell_type": "code",
   "execution_count": 3,
   "id": "bec27554",
   "metadata": {},
   "outputs": [],
   "source": [
    "nb_rows = 200"
   ]
  },
  {
   "cell_type": "code",
   "execution_count": 4,
   "id": "4e1e0c71",
   "metadata": {},
   "outputs": [],
   "source": [
    "bureau_sample = bureau.head(nb_rows)\n",
    "#save\n",
    "bureau_sample.to_csv('bureau_sample_list.csv')"
   ]
  },
  {
   "cell_type": "code",
   "execution_count": 5,
   "id": "a8fc2b05",
   "metadata": {},
   "outputs": [
    {
     "data": {
      "text/plain": [
       "(200, 18)"
      ]
     },
     "execution_count": 5,
     "metadata": {},
     "output_type": "execute_result"
    }
   ],
   "source": [
    "bureau_sample_list = pd.read_csv('bureau_sample_list.csv')\n",
    "bureau_sample_list.shape"
   ]
  },
  {
   "cell_type": "code",
   "execution_count": 6,
   "id": "820aa39d",
   "metadata": {},
   "outputs": [],
   "source": [
    "prev_sample = prev_application.head(nb_rows)\n",
    "#save\n",
    "prev_sample.to_csv('prev_sample_list.csv')"
   ]
  },
  {
   "cell_type": "code",
   "execution_count": 7,
   "id": "95c57b43",
   "metadata": {},
   "outputs": [
    {
     "data": {
      "text/plain": [
       "(200, 38)"
      ]
     },
     "execution_count": 7,
     "metadata": {},
     "output_type": "execute_result"
    }
   ],
   "source": [
    "prev_sample_list = pd.read_csv('prev_sample_list.csv')\n",
    "prev_sample_list.shape"
   ]
  },
  {
   "cell_type": "markdown",
   "id": "7d2d01a0",
   "metadata": {},
   "source": [
    "# Cleaning and Feature engineering"
   ]
  },
  {
   "cell_type": "markdown",
   "id": "6b29a33c",
   "metadata": {},
   "source": [
    "## application_train data"
   ]
  },
  {
   "cell_type": "code",
   "execution_count": 8,
   "id": "d617fe3f",
   "metadata": {},
   "outputs": [
    {
     "name": "stderr",
     "output_type": "stream",
     "text": [
      "C:\\Users\\mina\\Projets_CLASSROOMS\\P7_Pret_Credit_Conso_VERGE-DEPRE_Thierry\\Functions.py:12: SettingWithCopyWarning: \n",
      "A value is trying to be set on a copy of a slice from a DataFrame.\n",
      "Try using .loc[row_indexer,col_indexer] = value instead\n",
      "\n",
      "See the caveats in the documentation: https://pandas.pydata.org/pandas-docs/stable/user_guide/indexing.html#returning-a-view-versus-a-copy\n",
      "  application['DAYS_EMPLOYED_ANOM'] = application[\"DAYS_EMPLOYED\"] == 365243\n",
      "C:\\Users\\mina\\anaconda3_env\\lib\\site-packages\\pandas\\core\\series.py:4563: SettingWithCopyWarning: \n",
      "A value is trying to be set on a copy of a slice from a DataFrame\n",
      "\n",
      "See the caveats in the documentation: https://pandas.pydata.org/pandas-docs/stable/user_guide/indexing.html#returning-a-view-versus-a-copy\n",
      "  return super().replace(\n"
     ]
    }
   ],
   "source": [
    "application_fe = preprocess_application(application)"
   ]
  },
  {
   "cell_type": "code",
   "execution_count": 9,
   "id": "180494f7",
   "metadata": {},
   "outputs": [
    {
     "data": {
      "text/plain": [
       "(307507, 84)"
      ]
     },
     "execution_count": 9,
     "metadata": {},
     "output_type": "execute_result"
    }
   ],
   "source": [
    "application_fe.shape"
   ]
  },
  {
   "cell_type": "code",
   "execution_count": 10,
   "id": "ecc1bb44",
   "metadata": {},
   "outputs": [
    {
     "data": {
      "text/html": [
       "<div>\n",
       "<style scoped>\n",
       "    .dataframe tbody tr th:only-of-type {\n",
       "        vertical-align: middle;\n",
       "    }\n",
       "\n",
       "    .dataframe tbody tr th {\n",
       "        vertical-align: top;\n",
       "    }\n",
       "\n",
       "    .dataframe thead th {\n",
       "        text-align: right;\n",
       "    }\n",
       "</style>\n",
       "<table border=\"1\" class=\"dataframe\">\n",
       "  <thead>\n",
       "    <tr style=\"text-align: right;\">\n",
       "      <th></th>\n",
       "      <th>SK_ID_CURR</th>\n",
       "      <th>TARGET</th>\n",
       "      <th>NAME_CONTRACT_TYPE</th>\n",
       "      <th>CODE_GENDER</th>\n",
       "      <th>FLAG_OWN_CAR</th>\n",
       "      <th>FLAG_OWN_REALTY</th>\n",
       "      <th>CNT_CHILDREN</th>\n",
       "      <th>AMT_INCOME_TOTAL</th>\n",
       "      <th>AMT_CREDIT</th>\n",
       "      <th>AMT_ANNUITY</th>\n",
       "      <th>...</th>\n",
       "      <th>CREDIT_GOODS_RATIO</th>\n",
       "      <th>CREDIT_GOODS_DIFF</th>\n",
       "      <th>CREDIT_TERM</th>\n",
       "      <th>DAYS_EMPLOYED_RATIO</th>\n",
       "      <th>FLAG_CONTACTS_SUM</th>\n",
       "      <th>CNT_NON_CHILDREN</th>\n",
       "      <th>CHILDREN_INCOME_RATIO</th>\n",
       "      <th>PER_CAPITA_INCOME</th>\n",
       "      <th>FLAG_REGIONS</th>\n",
       "      <th>SUM_FLAGS_DOCUMENTS</th>\n",
       "    </tr>\n",
       "  </thead>\n",
       "  <tbody>\n",
       "    <tr>\n",
       "      <th>0</th>\n",
       "      <td>100002</td>\n",
       "      <td>1</td>\n",
       "      <td>Cash loans</td>\n",
       "      <td>M</td>\n",
       "      <td>0</td>\n",
       "      <td>1</td>\n",
       "      <td>0</td>\n",
       "      <td>202500.0</td>\n",
       "      <td>406597.5</td>\n",
       "      <td>24700.5</td>\n",
       "      <td>...</td>\n",
       "      <td>1.158397</td>\n",
       "      <td>55597.50001</td>\n",
       "      <td>16.461104</td>\n",
       "      <td>0.067329</td>\n",
       "      <td>4</td>\n",
       "      <td>1.0</td>\n",
       "      <td>0.0</td>\n",
       "      <td>101250.0</td>\n",
       "      <td>0</td>\n",
       "      <td>1</td>\n",
       "    </tr>\n",
       "    <tr>\n",
       "      <th>1</th>\n",
       "      <td>100003</td>\n",
       "      <td>0</td>\n",
       "      <td>Cash loans</td>\n",
       "      <td>F</td>\n",
       "      <td>0</td>\n",
       "      <td>0</td>\n",
       "      <td>0</td>\n",
       "      <td>270000.0</td>\n",
       "      <td>1293502.5</td>\n",
       "      <td>35698.5</td>\n",
       "      <td>...</td>\n",
       "      <td>1.145199</td>\n",
       "      <td>164002.50001</td>\n",
       "      <td>36.234085</td>\n",
       "      <td>0.070862</td>\n",
       "      <td>4</td>\n",
       "      <td>2.0</td>\n",
       "      <td>0.0</td>\n",
       "      <td>90000.0</td>\n",
       "      <td>0</td>\n",
       "      <td>1</td>\n",
       "    </tr>\n",
       "    <tr>\n",
       "      <th>2</th>\n",
       "      <td>100004</td>\n",
       "      <td>0</td>\n",
       "      <td>Revolving loans</td>\n",
       "      <td>M</td>\n",
       "      <td>1</td>\n",
       "      <td>1</td>\n",
       "      <td>0</td>\n",
       "      <td>67500.0</td>\n",
       "      <td>135000.0</td>\n",
       "      <td>6750.0</td>\n",
       "      <td>...</td>\n",
       "      <td>1.000000</td>\n",
       "      <td>0.00001</td>\n",
       "      <td>20.000000</td>\n",
       "      <td>0.011814</td>\n",
       "      <td>5</td>\n",
       "      <td>1.0</td>\n",
       "      <td>0.0</td>\n",
       "      <td>33750.0</td>\n",
       "      <td>0</td>\n",
       "      <td>0</td>\n",
       "    </tr>\n",
       "    <tr>\n",
       "      <th>3</th>\n",
       "      <td>100006</td>\n",
       "      <td>0</td>\n",
       "      <td>Cash loans</td>\n",
       "      <td>F</td>\n",
       "      <td>0</td>\n",
       "      <td>1</td>\n",
       "      <td>0</td>\n",
       "      <td>135000.0</td>\n",
       "      <td>312682.5</td>\n",
       "      <td>29686.5</td>\n",
       "      <td>...</td>\n",
       "      <td>1.052803</td>\n",
       "      <td>15682.50001</td>\n",
       "      <td>10.532818</td>\n",
       "      <td>0.159905</td>\n",
       "      <td>3</td>\n",
       "      <td>2.0</td>\n",
       "      <td>0.0</td>\n",
       "      <td>45000.0</td>\n",
       "      <td>0</td>\n",
       "      <td>1</td>\n",
       "    </tr>\n",
       "    <tr>\n",
       "      <th>4</th>\n",
       "      <td>100007</td>\n",
       "      <td>0</td>\n",
       "      <td>Cash loans</td>\n",
       "      <td>M</td>\n",
       "      <td>0</td>\n",
       "      <td>1</td>\n",
       "      <td>0</td>\n",
       "      <td>121500.0</td>\n",
       "      <td>513000.0</td>\n",
       "      <td>21865.5</td>\n",
       "      <td>...</td>\n",
       "      <td>1.000000</td>\n",
       "      <td>0.00001</td>\n",
       "      <td>23.461618</td>\n",
       "      <td>0.152418</td>\n",
       "      <td>3</td>\n",
       "      <td>1.0</td>\n",
       "      <td>0.0</td>\n",
       "      <td>60750.0</td>\n",
       "      <td>2</td>\n",
       "      <td>1</td>\n",
       "    </tr>\n",
       "  </tbody>\n",
       "</table>\n",
       "<p>5 rows × 84 columns</p>\n",
       "</div>"
      ],
      "text/plain": [
       "   SK_ID_CURR  TARGET NAME_CONTRACT_TYPE CODE_GENDER  FLAG_OWN_CAR  \\\n",
       "0      100002       1         Cash loans           M             0   \n",
       "1      100003       0         Cash loans           F             0   \n",
       "2      100004       0    Revolving loans           M             1   \n",
       "3      100006       0         Cash loans           F             0   \n",
       "4      100007       0         Cash loans           M             0   \n",
       "\n",
       "   FLAG_OWN_REALTY  CNT_CHILDREN  AMT_INCOME_TOTAL  AMT_CREDIT  AMT_ANNUITY  \\\n",
       "0                1             0          202500.0    406597.5      24700.5   \n",
       "1                0             0          270000.0   1293502.5      35698.5   \n",
       "2                1             0           67500.0    135000.0       6750.0   \n",
       "3                1             0          135000.0    312682.5      29686.5   \n",
       "4                1             0          121500.0    513000.0      21865.5   \n",
       "\n",
       "   ...  CREDIT_GOODS_RATIO CREDIT_GOODS_DIFF CREDIT_TERM  DAYS_EMPLOYED_RATIO  \\\n",
       "0  ...            1.158397       55597.50001   16.461104             0.067329   \n",
       "1  ...            1.145199      164002.50001   36.234085             0.070862   \n",
       "2  ...            1.000000           0.00001   20.000000             0.011814   \n",
       "3  ...            1.052803       15682.50001   10.532818             0.159905   \n",
       "4  ...            1.000000           0.00001   23.461618             0.152418   \n",
       "\n",
       "  FLAG_CONTACTS_SUM CNT_NON_CHILDREN  CHILDREN_INCOME_RATIO  \\\n",
       "0                 4              1.0                    0.0   \n",
       "1                 4              2.0                    0.0   \n",
       "2                 5              1.0                    0.0   \n",
       "3                 3              2.0                    0.0   \n",
       "4                 3              1.0                    0.0   \n",
       "\n",
       "   PER_CAPITA_INCOME  FLAG_REGIONS  SUM_FLAGS_DOCUMENTS  \n",
       "0           101250.0             0                    1  \n",
       "1            90000.0             0                    1  \n",
       "2            33750.0             0                    0  \n",
       "3            45000.0             0                    1  \n",
       "4            60750.0             2                    1  \n",
       "\n",
       "[5 rows x 84 columns]"
      ]
     },
     "execution_count": 10,
     "metadata": {},
     "output_type": "execute_result"
    }
   ],
   "source": [
    "application_fe.head()"
   ]
  },
  {
   "cell_type": "code",
   "execution_count": 11,
   "id": "c62549a7",
   "metadata": {},
   "outputs": [],
   "source": [
    "# save\n",
    "application_fe.to_csv('application_fe.csv')"
   ]
  },
  {
   "cell_type": "code",
   "execution_count": 12,
   "id": "bb0c3347",
   "metadata": {},
   "outputs": [
    {
     "data": {
      "text/plain": [
       "(200, 84)"
      ]
     },
     "execution_count": 12,
     "metadata": {},
     "output_type": "execute_result"
    }
   ],
   "source": [
    "application_test_sample = application_fe.head(nb_rows)\n",
    "application_test_sample.shape"
   ]
  },
  {
   "cell_type": "code",
   "execution_count": 13,
   "id": "0022d246",
   "metadata": {},
   "outputs": [],
   "source": [
    "# save sample\n",
    "application_test_sample.to_csv('application_test_sample.csv')"
   ]
  },
  {
   "cell_type": "markdown",
   "id": "d8a4fc8b",
   "metadata": {},
   "source": [
    "## bureau data"
   ]
  },
  {
   "cell_type": "code",
   "execution_count": 14,
   "id": "c688f76f",
   "metadata": {},
   "outputs": [],
   "source": [
    "bureau_fe = preprocess_bureau(bureau)"
   ]
  },
  {
   "cell_type": "code",
   "execution_count": 15,
   "id": "4ffaf0cf",
   "metadata": {},
   "outputs": [
    {
     "data": {
      "text/plain": [
       "(305811, 13)"
      ]
     },
     "execution_count": 15,
     "metadata": {},
     "output_type": "execute_result"
    }
   ],
   "source": [
    "bureau_fe.shape"
   ]
  },
  {
   "cell_type": "code",
   "execution_count": 16,
   "id": "92555b69",
   "metadata": {},
   "outputs": [
    {
     "data": {
      "text/html": [
       "<div>\n",
       "<style scoped>\n",
       "    .dataframe tbody tr th:only-of-type {\n",
       "        vertical-align: middle;\n",
       "    }\n",
       "\n",
       "    .dataframe tbody tr th {\n",
       "        vertical-align: top;\n",
       "    }\n",
       "\n",
       "    .dataframe thead th {\n",
       "        text-align: right;\n",
       "    }\n",
       "</style>\n",
       "<table border=\"1\" class=\"dataframe\">\n",
       "  <thead>\n",
       "    <tr style=\"text-align: right;\">\n",
       "      <th></th>\n",
       "      <th>BUREAU_COUNT</th>\n",
       "      <th>BUREAU_TYPES_COUNT</th>\n",
       "      <th>BUREAU_ACTIVE_LOANS_PCT</th>\n",
       "      <th>BUREAU_PAST_DUE_LOANS_PCT</th>\n",
       "      <th>BUREAU_TOTAL_DEBT</th>\n",
       "      <th>BUREAU_TOTAL_CREDIT</th>\n",
       "      <th>BUREAU_TOTAL_OVERDUE</th>\n",
       "      <th>BUREAU_CREDIT_PROL_AVG</th>\n",
       "      <th>BUREAU_OVERDUE_COUNT</th>\n",
       "      <th>BUREAU_DAYS_DIFF_AVG</th>\n",
       "      <th>BUREAU_AVG_TYPES_COUNT</th>\n",
       "      <th>BUREAU_RATIO_DEBT_CREDIT</th>\n",
       "      <th>BUREAU_RATIO_OVERDUE_DEBT</th>\n",
       "    </tr>\n",
       "    <tr>\n",
       "      <th>SK_ID_CURR</th>\n",
       "      <th></th>\n",
       "      <th></th>\n",
       "      <th></th>\n",
       "      <th></th>\n",
       "      <th></th>\n",
       "      <th></th>\n",
       "      <th></th>\n",
       "      <th></th>\n",
       "      <th></th>\n",
       "      <th></th>\n",
       "      <th></th>\n",
       "      <th></th>\n",
       "      <th></th>\n",
       "    </tr>\n",
       "  </thead>\n",
       "  <tbody>\n",
       "    <tr>\n",
       "      <th>100001</th>\n",
       "      <td>7</td>\n",
       "      <td>1</td>\n",
       "      <td>0.428571</td>\n",
       "      <td>0.0</td>\n",
       "      <td>596686.5</td>\n",
       "      <td>1453365.000</td>\n",
       "      <td>0.0</td>\n",
       "      <td>0.0</td>\n",
       "      <td>0</td>\n",
       "      <td>217.571429</td>\n",
       "      <td>7.0</td>\n",
       "      <td>0.410555</td>\n",
       "      <td>0.0</td>\n",
       "    </tr>\n",
       "    <tr>\n",
       "      <th>100002</th>\n",
       "      <td>8</td>\n",
       "      <td>2</td>\n",
       "      <td>0.250000</td>\n",
       "      <td>0.0</td>\n",
       "      <td>245781.0</td>\n",
       "      <td>865055.565</td>\n",
       "      <td>0.0</td>\n",
       "      <td>0.0</td>\n",
       "      <td>0</td>\n",
       "      <td>166.750000</td>\n",
       "      <td>4.0</td>\n",
       "      <td>0.284122</td>\n",
       "      <td>0.0</td>\n",
       "    </tr>\n",
       "    <tr>\n",
       "      <th>100003</th>\n",
       "      <td>4</td>\n",
       "      <td>2</td>\n",
       "      <td>0.250000</td>\n",
       "      <td>0.0</td>\n",
       "      <td>0.0</td>\n",
       "      <td>1017400.500</td>\n",
       "      <td>0.0</td>\n",
       "      <td>0.0</td>\n",
       "      <td>0</td>\n",
       "      <td>495.000000</td>\n",
       "      <td>2.0</td>\n",
       "      <td>0.000000</td>\n",
       "      <td>0.0</td>\n",
       "    </tr>\n",
       "    <tr>\n",
       "      <th>100004</th>\n",
       "      <td>2</td>\n",
       "      <td>1</td>\n",
       "      <td>0.000000</td>\n",
       "      <td>0.0</td>\n",
       "      <td>0.0</td>\n",
       "      <td>189037.800</td>\n",
       "      <td>0.0</td>\n",
       "      <td>0.0</td>\n",
       "      <td>0</td>\n",
       "      <td>459.000000</td>\n",
       "      <td>2.0</td>\n",
       "      <td>0.000000</td>\n",
       "      <td>0.0</td>\n",
       "    </tr>\n",
       "    <tr>\n",
       "      <th>100005</th>\n",
       "      <td>3</td>\n",
       "      <td>2</td>\n",
       "      <td>0.666667</td>\n",
       "      <td>0.0</td>\n",
       "      <td>568408.5</td>\n",
       "      <td>657126.000</td>\n",
       "      <td>0.0</td>\n",
       "      <td>0.0</td>\n",
       "      <td>0</td>\n",
       "      <td>103.666667</td>\n",
       "      <td>1.5</td>\n",
       "      <td>0.864992</td>\n",
       "      <td>0.0</td>\n",
       "    </tr>\n",
       "  </tbody>\n",
       "</table>\n",
       "</div>"
      ],
      "text/plain": [
       "            BUREAU_COUNT  BUREAU_TYPES_COUNT  BUREAU_ACTIVE_LOANS_PCT  \\\n",
       "SK_ID_CURR                                                              \n",
       "100001                 7                   1                 0.428571   \n",
       "100002                 8                   2                 0.250000   \n",
       "100003                 4                   2                 0.250000   \n",
       "100004                 2                   1                 0.000000   \n",
       "100005                 3                   2                 0.666667   \n",
       "\n",
       "            BUREAU_PAST_DUE_LOANS_PCT  BUREAU_TOTAL_DEBT  BUREAU_TOTAL_CREDIT  \\\n",
       "SK_ID_CURR                                                                      \n",
       "100001                            0.0           596686.5          1453365.000   \n",
       "100002                            0.0           245781.0           865055.565   \n",
       "100003                            0.0                0.0          1017400.500   \n",
       "100004                            0.0                0.0           189037.800   \n",
       "100005                            0.0           568408.5           657126.000   \n",
       "\n",
       "            BUREAU_TOTAL_OVERDUE  BUREAU_CREDIT_PROL_AVG  \\\n",
       "SK_ID_CURR                                                 \n",
       "100001                       0.0                     0.0   \n",
       "100002                       0.0                     0.0   \n",
       "100003                       0.0                     0.0   \n",
       "100004                       0.0                     0.0   \n",
       "100005                       0.0                     0.0   \n",
       "\n",
       "            BUREAU_OVERDUE_COUNT  BUREAU_DAYS_DIFF_AVG  \\\n",
       "SK_ID_CURR                                               \n",
       "100001                         0            217.571429   \n",
       "100002                         0            166.750000   \n",
       "100003                         0            495.000000   \n",
       "100004                         0            459.000000   \n",
       "100005                         0            103.666667   \n",
       "\n",
       "            BUREAU_AVG_TYPES_COUNT  BUREAU_RATIO_DEBT_CREDIT  \\\n",
       "SK_ID_CURR                                                     \n",
       "100001                         7.0                  0.410555   \n",
       "100002                         4.0                  0.284122   \n",
       "100003                         2.0                  0.000000   \n",
       "100004                         2.0                  0.000000   \n",
       "100005                         1.5                  0.864992   \n",
       "\n",
       "            BUREAU_RATIO_OVERDUE_DEBT  \n",
       "SK_ID_CURR                             \n",
       "100001                            0.0  \n",
       "100002                            0.0  \n",
       "100003                            0.0  \n",
       "100004                            0.0  \n",
       "100005                            0.0  "
      ]
     },
     "execution_count": 16,
     "metadata": {},
     "output_type": "execute_result"
    }
   ],
   "source": [
    "bureau_fe.head()"
   ]
  },
  {
   "cell_type": "code",
   "execution_count": 17,
   "id": "84c22153",
   "metadata": {},
   "outputs": [],
   "source": [
    "# save\n",
    "bureau_fe.to_csv('bureau_fe.csv')"
   ]
  },
  {
   "cell_type": "code",
   "execution_count": 18,
   "id": "40d47bf4",
   "metadata": {},
   "outputs": [
    {
     "data": {
      "text/plain": [
       "(200, 13)"
      ]
     },
     "execution_count": 18,
     "metadata": {},
     "output_type": "execute_result"
    }
   ],
   "source": [
    "bureau_test_fe = bureau_fe.head(nb_rows)\n",
    "bureau_test_fe.shape"
   ]
  },
  {
   "cell_type": "code",
   "execution_count": 19,
   "id": "765ce449",
   "metadata": {},
   "outputs": [],
   "source": [
    "# save sample\n",
    "bureau_test_fe.to_csv('bureau_test_fe.csv')"
   ]
  },
  {
   "cell_type": "markdown",
   "id": "9215b631",
   "metadata": {},
   "source": [
    "## previous_application data"
   ]
  },
  {
   "cell_type": "code",
   "execution_count": 20,
   "id": "d73f34c0",
   "metadata": {},
   "outputs": [],
   "source": [
    "prev_application_fe = preprocess_prevapp(prev_application)"
   ]
  },
  {
   "cell_type": "code",
   "execution_count": 21,
   "id": "910ab9d0",
   "metadata": {},
   "outputs": [
    {
     "data": {
      "text/plain": [
       "(338857, 18)"
      ]
     },
     "execution_count": 21,
     "metadata": {},
     "output_type": "execute_result"
    }
   ],
   "source": [
    "prev_application_fe.shape"
   ]
  },
  {
   "cell_type": "code",
   "execution_count": 22,
   "id": "6dfc2107",
   "metadata": {},
   "outputs": [
    {
     "data": {
      "text/html": [
       "<div>\n",
       "<style scoped>\n",
       "    .dataframe tbody tr th:only-of-type {\n",
       "        vertical-align: middle;\n",
       "    }\n",
       "\n",
       "    .dataframe tbody tr th {\n",
       "        vertical-align: top;\n",
       "    }\n",
       "\n",
       "    .dataframe thead th {\n",
       "        text-align: right;\n",
       "    }\n",
       "</style>\n",
       "<table border=\"1\" class=\"dataframe\">\n",
       "  <thead>\n",
       "    <tr style=\"text-align: right;\">\n",
       "      <th></th>\n",
       "      <th>PREVAPP_SK_ID_PREV_COUNT</th>\n",
       "      <th>PREVAPP_AMT_ANNUITY_LAST</th>\n",
       "      <th>PREVAPP_AMT_APPLICATION_LAST</th>\n",
       "      <th>PREVAPP_AMT_CREDIT_LAST</th>\n",
       "      <th>PREVAPP_AMT_DOWN_PAYMENT_LAST</th>\n",
       "      <th>PREVAPP_AMT_GOODS_PRICE_LAST</th>\n",
       "      <th>PREVAPP_FLAG_LAST_APPL_PER_CONTRACT_LAST</th>\n",
       "      <th>PREVAPP_DAYS_FIRST_DUE_LAST</th>\n",
       "      <th>PREVAPP_DAYS_LAST_DUE_1ST_VERSION_LAST</th>\n",
       "      <th>PREVAPP_DAYS_LAST_DUE_LAST</th>\n",
       "      <th>PREVAPP_AMT_DECLINED_LAST</th>\n",
       "      <th>PREVAPP_AMT_CREDIT_GOODS_RATIO_LAST</th>\n",
       "      <th>PREVAPP_AMT_CREDIT_GOODS_DIFF_LAST</th>\n",
       "      <th>PREVAPP_AMT_CREDIT_APPLICATION_RATIO_LAST</th>\n",
       "      <th>PREVAPP_CREDIT_DOWNPAYMENT_RATIO_LAST</th>\n",
       "      <th>PREVAPP_GOOD_DOWNPAYMET_RATIO_LAST</th>\n",
       "      <th>PREVAPP_ANNUITY_LAST</th>\n",
       "      <th>PREVAPP_ANNUITY_GOODS_LAST</th>\n",
       "    </tr>\n",
       "    <tr>\n",
       "      <th>SK_ID_CURR</th>\n",
       "      <th></th>\n",
       "      <th></th>\n",
       "      <th></th>\n",
       "      <th></th>\n",
       "      <th></th>\n",
       "      <th></th>\n",
       "      <th></th>\n",
       "      <th></th>\n",
       "      <th></th>\n",
       "      <th></th>\n",
       "      <th></th>\n",
       "      <th></th>\n",
       "      <th></th>\n",
       "      <th></th>\n",
       "      <th></th>\n",
       "      <th></th>\n",
       "      <th></th>\n",
       "      <th></th>\n",
       "    </tr>\n",
       "  </thead>\n",
       "  <tbody>\n",
       "    <tr>\n",
       "      <th>100001</th>\n",
       "      <td>1</td>\n",
       "      <td>3951.000</td>\n",
       "      <td>24835.5</td>\n",
       "      <td>23787.0</td>\n",
       "      <td>2520.0</td>\n",
       "      <td>24835.5</td>\n",
       "      <td>1</td>\n",
       "      <td>-1709.0</td>\n",
       "      <td>-1499.0</td>\n",
       "      <td>-1619.0</td>\n",
       "      <td>1048.5</td>\n",
       "      <td>0.957782</td>\n",
       "      <td>-1048.5</td>\n",
       "      <td>1.044079</td>\n",
       "      <td>0.105940</td>\n",
       "      <td>0.101468</td>\n",
       "      <td>2973.371283</td>\n",
       "      <td>3104.433619</td>\n",
       "    </tr>\n",
       "    <tr>\n",
       "      <th>100002</th>\n",
       "      <td>1</td>\n",
       "      <td>9251.775</td>\n",
       "      <td>179055.0</td>\n",
       "      <td>179055.0</td>\n",
       "      <td>0.0</td>\n",
       "      <td>179055.0</td>\n",
       "      <td>1</td>\n",
       "      <td>-565.0</td>\n",
       "      <td>125.0</td>\n",
       "      <td>-25.0</td>\n",
       "      <td>0.0</td>\n",
       "      <td>1.000000</td>\n",
       "      <td>0.0</td>\n",
       "      <td>1.000000</td>\n",
       "      <td>0.000000</td>\n",
       "      <td>0.000000</td>\n",
       "      <td>7460.621891</td>\n",
       "      <td>7460.621891</td>\n",
       "    </tr>\n",
       "    <tr>\n",
       "      <th>100003</th>\n",
       "      <td>3</td>\n",
       "      <td>6737.310</td>\n",
       "      <td>68809.5</td>\n",
       "      <td>68053.5</td>\n",
       "      <td>6885.0</td>\n",
       "      <td>68809.5</td>\n",
       "      <td>1</td>\n",
       "      <td>-2310.0</td>\n",
       "      <td>-1980.0</td>\n",
       "      <td>-1980.0</td>\n",
       "      <td>756.0</td>\n",
       "      <td>0.989013</td>\n",
       "      <td>-756.0</td>\n",
       "      <td>1.011109</td>\n",
       "      <td>0.101170</td>\n",
       "      <td>0.100059</td>\n",
       "      <td>5671.120274</td>\n",
       "      <td>5734.120222</td>\n",
       "    </tr>\n",
       "    <tr>\n",
       "      <th>100004</th>\n",
       "      <td>1</td>\n",
       "      <td>5357.250</td>\n",
       "      <td>24282.0</td>\n",
       "      <td>20106.0</td>\n",
       "      <td>4860.0</td>\n",
       "      <td>24282.0</td>\n",
       "      <td>1</td>\n",
       "      <td>-784.0</td>\n",
       "      <td>-694.0</td>\n",
       "      <td>-724.0</td>\n",
       "      <td>4176.0</td>\n",
       "      <td>0.828021</td>\n",
       "      <td>-4176.0</td>\n",
       "      <td>1.207699</td>\n",
       "      <td>0.241719</td>\n",
       "      <td>0.200148</td>\n",
       "      <td>5026.487434</td>\n",
       "      <td>6070.484824</td>\n",
       "    </tr>\n",
       "    <tr>\n",
       "      <th>100005</th>\n",
       "      <td>2</td>\n",
       "      <td>4813.200</td>\n",
       "      <td>44617.5</td>\n",
       "      <td>40153.5</td>\n",
       "      <td>4464.0</td>\n",
       "      <td>44617.5</td>\n",
       "      <td>1</td>\n",
       "      <td>-706.0</td>\n",
       "      <td>-376.0</td>\n",
       "      <td>-466.0</td>\n",
       "      <td>4464.0</td>\n",
       "      <td>0.899950</td>\n",
       "      <td>-4464.0</td>\n",
       "      <td>1.111173</td>\n",
       "      <td>0.111173</td>\n",
       "      <td>0.100050</td>\n",
       "      <td>3346.122212</td>\n",
       "      <td>3718.121902</td>\n",
       "    </tr>\n",
       "  </tbody>\n",
       "</table>\n",
       "</div>"
      ],
      "text/plain": [
       "            PREVAPP_SK_ID_PREV_COUNT  PREVAPP_AMT_ANNUITY_LAST  \\\n",
       "SK_ID_CURR                                                       \n",
       "100001                             1                  3951.000   \n",
       "100002                             1                  9251.775   \n",
       "100003                             3                  6737.310   \n",
       "100004                             1                  5357.250   \n",
       "100005                             2                  4813.200   \n",
       "\n",
       "            PREVAPP_AMT_APPLICATION_LAST  PREVAPP_AMT_CREDIT_LAST  \\\n",
       "SK_ID_CURR                                                          \n",
       "100001                           24835.5                  23787.0   \n",
       "100002                          179055.0                 179055.0   \n",
       "100003                           68809.5                  68053.5   \n",
       "100004                           24282.0                  20106.0   \n",
       "100005                           44617.5                  40153.5   \n",
       "\n",
       "            PREVAPP_AMT_DOWN_PAYMENT_LAST  PREVAPP_AMT_GOODS_PRICE_LAST  \\\n",
       "SK_ID_CURR                                                                \n",
       "100001                             2520.0                       24835.5   \n",
       "100002                                0.0                      179055.0   \n",
       "100003                             6885.0                       68809.5   \n",
       "100004                             4860.0                       24282.0   \n",
       "100005                             4464.0                       44617.5   \n",
       "\n",
       "            PREVAPP_FLAG_LAST_APPL_PER_CONTRACT_LAST  \\\n",
       "SK_ID_CURR                                             \n",
       "100001                                             1   \n",
       "100002                                             1   \n",
       "100003                                             1   \n",
       "100004                                             1   \n",
       "100005                                             1   \n",
       "\n",
       "            PREVAPP_DAYS_FIRST_DUE_LAST  \\\n",
       "SK_ID_CURR                                \n",
       "100001                          -1709.0   \n",
       "100002                           -565.0   \n",
       "100003                          -2310.0   \n",
       "100004                           -784.0   \n",
       "100005                           -706.0   \n",
       "\n",
       "            PREVAPP_DAYS_LAST_DUE_1ST_VERSION_LAST  \\\n",
       "SK_ID_CURR                                           \n",
       "100001                                     -1499.0   \n",
       "100002                                       125.0   \n",
       "100003                                     -1980.0   \n",
       "100004                                      -694.0   \n",
       "100005                                      -376.0   \n",
       "\n",
       "            PREVAPP_DAYS_LAST_DUE_LAST  PREVAPP_AMT_DECLINED_LAST  \\\n",
       "SK_ID_CURR                                                          \n",
       "100001                         -1619.0                     1048.5   \n",
       "100002                           -25.0                        0.0   \n",
       "100003                         -1980.0                      756.0   \n",
       "100004                          -724.0                     4176.0   \n",
       "100005                          -466.0                     4464.0   \n",
       "\n",
       "            PREVAPP_AMT_CREDIT_GOODS_RATIO_LAST  \\\n",
       "SK_ID_CURR                                        \n",
       "100001                                 0.957782   \n",
       "100002                                 1.000000   \n",
       "100003                                 0.989013   \n",
       "100004                                 0.828021   \n",
       "100005                                 0.899950   \n",
       "\n",
       "            PREVAPP_AMT_CREDIT_GOODS_DIFF_LAST  \\\n",
       "SK_ID_CURR                                       \n",
       "100001                                 -1048.5   \n",
       "100002                                     0.0   \n",
       "100003                                  -756.0   \n",
       "100004                                 -4176.0   \n",
       "100005                                 -4464.0   \n",
       "\n",
       "            PREVAPP_AMT_CREDIT_APPLICATION_RATIO_LAST  \\\n",
       "SK_ID_CURR                                              \n",
       "100001                                       1.044079   \n",
       "100002                                       1.000000   \n",
       "100003                                       1.011109   \n",
       "100004                                       1.207699   \n",
       "100005                                       1.111173   \n",
       "\n",
       "            PREVAPP_CREDIT_DOWNPAYMENT_RATIO_LAST  \\\n",
       "SK_ID_CURR                                          \n",
       "100001                                   0.105940   \n",
       "100002                                   0.000000   \n",
       "100003                                   0.101170   \n",
       "100004                                   0.241719   \n",
       "100005                                   0.111173   \n",
       "\n",
       "            PREVAPP_GOOD_DOWNPAYMET_RATIO_LAST  PREVAPP_ANNUITY_LAST  \\\n",
       "SK_ID_CURR                                                             \n",
       "100001                                0.101468           2973.371283   \n",
       "100002                                0.000000           7460.621891   \n",
       "100003                                0.100059           5671.120274   \n",
       "100004                                0.200148           5026.487434   \n",
       "100005                                0.100050           3346.122212   \n",
       "\n",
       "            PREVAPP_ANNUITY_GOODS_LAST  \n",
       "SK_ID_CURR                              \n",
       "100001                     3104.433619  \n",
       "100002                     7460.621891  \n",
       "100003                     5734.120222  \n",
       "100004                     6070.484824  \n",
       "100005                     3718.121902  "
      ]
     },
     "execution_count": 22,
     "metadata": {},
     "output_type": "execute_result"
    }
   ],
   "source": [
    "prev_application_fe.head()"
   ]
  },
  {
   "cell_type": "code",
   "execution_count": 23,
   "id": "b427f2f1",
   "metadata": {},
   "outputs": [
    {
     "data": {
      "text/html": [
       "<div>\n",
       "<style scoped>\n",
       "    .dataframe tbody tr th:only-of-type {\n",
       "        vertical-align: middle;\n",
       "    }\n",
       "\n",
       "    .dataframe tbody tr th {\n",
       "        vertical-align: top;\n",
       "    }\n",
       "\n",
       "    .dataframe thead th {\n",
       "        text-align: right;\n",
       "    }\n",
       "</style>\n",
       "<table border=\"1\" class=\"dataframe\">\n",
       "  <thead>\n",
       "    <tr style=\"text-align: right;\">\n",
       "      <th></th>\n",
       "      <th>Unnamed: 0</th>\n",
       "      <th>SK_ID_PREV</th>\n",
       "      <th>SK_ID_CURR</th>\n",
       "      <th>NAME_CONTRACT_TYPE</th>\n",
       "      <th>AMT_ANNUITY</th>\n",
       "      <th>AMT_APPLICATION</th>\n",
       "      <th>AMT_CREDIT</th>\n",
       "      <th>AMT_DOWN_PAYMENT</th>\n",
       "      <th>AMT_GOODS_PRICE</th>\n",
       "      <th>WEEKDAY_APPR_PROCESS_START</th>\n",
       "      <th>...</th>\n",
       "      <th>NAME_SELLER_INDUSTRY</th>\n",
       "      <th>CNT_PAYMENT</th>\n",
       "      <th>NAME_YIELD_GROUP</th>\n",
       "      <th>PRODUCT_COMBINATION</th>\n",
       "      <th>DAYS_FIRST_DRAWING</th>\n",
       "      <th>DAYS_FIRST_DUE</th>\n",
       "      <th>DAYS_LAST_DUE_1ST_VERSION</th>\n",
       "      <th>DAYS_LAST_DUE</th>\n",
       "      <th>DAYS_TERMINATION</th>\n",
       "      <th>NFLAG_INSURED_ON_APPROVAL</th>\n",
       "    </tr>\n",
       "  </thead>\n",
       "  <tbody>\n",
       "  </tbody>\n",
       "</table>\n",
       "<p>0 rows × 38 columns</p>\n",
       "</div>"
      ],
      "text/plain": [
       "Empty DataFrame\n",
       "Columns: [Unnamed: 0, SK_ID_PREV, SK_ID_CURR, NAME_CONTRACT_TYPE, AMT_ANNUITY, AMT_APPLICATION, AMT_CREDIT, AMT_DOWN_PAYMENT, AMT_GOODS_PRICE, WEEKDAY_APPR_PROCESS_START, HOUR_APPR_PROCESS_START, FLAG_LAST_APPL_PER_CONTRACT, NFLAG_LAST_APPL_IN_DAY, RATE_DOWN_PAYMENT, RATE_INTEREST_PRIMARY, RATE_INTEREST_PRIVILEGED, NAME_CASH_LOAN_PURPOSE, NAME_CONTRACT_STATUS, DAYS_DECISION, NAME_PAYMENT_TYPE, CODE_REJECT_REASON, NAME_TYPE_SUITE, NAME_CLIENT_TYPE, NAME_GOODS_CATEGORY, NAME_PORTFOLIO, NAME_PRODUCT_TYPE, CHANNEL_TYPE, SELLERPLACE_AREA, NAME_SELLER_INDUSTRY, CNT_PAYMENT, NAME_YIELD_GROUP, PRODUCT_COMBINATION, DAYS_FIRST_DRAWING, DAYS_FIRST_DUE, DAYS_LAST_DUE_1ST_VERSION, DAYS_LAST_DUE, DAYS_TERMINATION, NFLAG_INSURED_ON_APPROVAL]\n",
       "Index: []\n",
       "\n",
       "[0 rows x 38 columns]"
      ]
     },
     "execution_count": 23,
     "metadata": {},
     "output_type": "execute_result"
    }
   ],
   "source": [
    "application_sample = application.head(20)\n",
    "client_list = application_sample['SK_ID_CURR'].tolist()\n",
    "\n",
    "prev_list = prev_sample_list.head(nb_rows)\n",
    "prev_sampled = prev_list[prev_list['SK_ID_CURR'].isin(client_list)]\n",
    "prev_sampled"
   ]
  },
  {
   "cell_type": "code",
   "execution_count": 24,
   "id": "2e1fe571",
   "metadata": {},
   "outputs": [],
   "source": [
    "# save\n",
    "prev_application_fe.to_csv('previous_application_fe.csv')"
   ]
  },
  {
   "cell_type": "code",
   "execution_count": 25,
   "id": "eb6e8305",
   "metadata": {},
   "outputs": [
    {
     "data": {
      "text/plain": [
       "(200, 18)"
      ]
     },
     "execution_count": 25,
     "metadata": {},
     "output_type": "execute_result"
    }
   ],
   "source": [
    "prev_application_test_fe = prev_application_fe.head(nb_rows)\n",
    "prev_application_test_fe.shape"
   ]
  },
  {
   "cell_type": "code",
   "execution_count": 26,
   "id": "8f807c1c",
   "metadata": {},
   "outputs": [],
   "source": [
    "# save sample\n",
    "prev_application_test_fe.to_csv('prev_application_test_fe.csv')"
   ]
  },
  {
   "cell_type": "markdown",
   "id": "493fed94",
   "metadata": {},
   "source": [
    "# Merge & Preprocess final data"
   ]
  },
  {
   "cell_type": "code",
   "execution_count": 27,
   "id": "5b7f2330",
   "metadata": {},
   "outputs": [],
   "source": [
    "from sklearn.preprocessing import StandardScaler\n",
    "from sklearn.impute import SimpleImputer\n",
    "from sklearn.preprocessing import PowerTransformer\n",
    "from sklearn.pipeline import Pipeline\n",
    "import pickle"
   ]
  },
  {
   "cell_type": "code",
   "execution_count": 28,
   "id": "44dea8d2",
   "metadata": {},
   "outputs": [],
   "source": [
    "data = merge_data(application_fe, bureau_fe, prev_application_fe)"
   ]
  },
  {
   "cell_type": "code",
   "execution_count": 29,
   "id": "e42249e3",
   "metadata": {},
   "outputs": [
    {
     "data": {
      "text/plain": [
       "(307507, 115)"
      ]
     },
     "execution_count": 29,
     "metadata": {},
     "output_type": "execute_result"
    }
   ],
   "source": [
    "data.shape"
   ]
  },
  {
   "cell_type": "code",
   "execution_count": 30,
   "id": "c88a9ce9",
   "metadata": {},
   "outputs": [
    {
     "data": {
      "text/plain": [
       "(200, 115)"
      ]
     },
     "execution_count": 30,
     "metadata": {},
     "output_type": "execute_result"
    }
   ],
   "source": [
    "data_sample = data.head(nb_rows)\n",
    "data_sample.shape"
   ]
  },
  {
   "cell_type": "code",
   "execution_count": 31,
   "id": "ca956b61",
   "metadata": {},
   "outputs": [
    {
     "data": {
      "text/html": [
       "<div>\n",
       "<style scoped>\n",
       "    .dataframe tbody tr th:only-of-type {\n",
       "        vertical-align: middle;\n",
       "    }\n",
       "\n",
       "    .dataframe tbody tr th {\n",
       "        vertical-align: top;\n",
       "    }\n",
       "\n",
       "    .dataframe thead th {\n",
       "        text-align: right;\n",
       "    }\n",
       "</style>\n",
       "<table border=\"1\" class=\"dataframe\">\n",
       "  <thead>\n",
       "    <tr style=\"text-align: right;\">\n",
       "      <th></th>\n",
       "      <th>SK_ID_CURR</th>\n",
       "      <th>TARGET</th>\n",
       "      <th>NAME_CONTRACT_TYPE</th>\n",
       "      <th>CODE_GENDER</th>\n",
       "      <th>FLAG_OWN_CAR</th>\n",
       "      <th>FLAG_OWN_REALTY</th>\n",
       "      <th>CNT_CHILDREN</th>\n",
       "      <th>AMT_INCOME_TOTAL</th>\n",
       "      <th>AMT_CREDIT</th>\n",
       "      <th>AMT_ANNUITY</th>\n",
       "      <th>...</th>\n",
       "      <th>PREVAPP_DAYS_LAST_DUE_1ST_VERSION_LAST</th>\n",
       "      <th>PREVAPP_DAYS_LAST_DUE_LAST</th>\n",
       "      <th>PREVAPP_AMT_DECLINED_LAST</th>\n",
       "      <th>PREVAPP_AMT_CREDIT_GOODS_RATIO_LAST</th>\n",
       "      <th>PREVAPP_AMT_CREDIT_GOODS_DIFF_LAST</th>\n",
       "      <th>PREVAPP_AMT_CREDIT_APPLICATION_RATIO_LAST</th>\n",
       "      <th>PREVAPP_CREDIT_DOWNPAYMENT_RATIO_LAST</th>\n",
       "      <th>PREVAPP_GOOD_DOWNPAYMET_RATIO_LAST</th>\n",
       "      <th>PREVAPP_ANNUITY_LAST</th>\n",
       "      <th>PREVAPP_ANNUITY_GOODS_LAST</th>\n",
       "    </tr>\n",
       "  </thead>\n",
       "  <tbody>\n",
       "    <tr>\n",
       "      <th>0</th>\n",
       "      <td>100002</td>\n",
       "      <td>1</td>\n",
       "      <td>Cash loans</td>\n",
       "      <td>M</td>\n",
       "      <td>0</td>\n",
       "      <td>1</td>\n",
       "      <td>0</td>\n",
       "      <td>202500.0</td>\n",
       "      <td>406597.5</td>\n",
       "      <td>24700.5</td>\n",
       "      <td>...</td>\n",
       "      <td>125.0</td>\n",
       "      <td>-25.0</td>\n",
       "      <td>0.0</td>\n",
       "      <td>1.000000</td>\n",
       "      <td>0.0</td>\n",
       "      <td>1.000000</td>\n",
       "      <td>0.00000</td>\n",
       "      <td>0.000000</td>\n",
       "      <td>7460.621891</td>\n",
       "      <td>7460.621891</td>\n",
       "    </tr>\n",
       "    <tr>\n",
       "      <th>1</th>\n",
       "      <td>100003</td>\n",
       "      <td>0</td>\n",
       "      <td>Cash loans</td>\n",
       "      <td>F</td>\n",
       "      <td>0</td>\n",
       "      <td>0</td>\n",
       "      <td>0</td>\n",
       "      <td>270000.0</td>\n",
       "      <td>1293502.5</td>\n",
       "      <td>35698.5</td>\n",
       "      <td>...</td>\n",
       "      <td>-1980.0</td>\n",
       "      <td>-1980.0</td>\n",
       "      <td>756.0</td>\n",
       "      <td>0.989013</td>\n",
       "      <td>-756.0</td>\n",
       "      <td>1.011109</td>\n",
       "      <td>0.10117</td>\n",
       "      <td>0.100059</td>\n",
       "      <td>5671.120274</td>\n",
       "      <td>5734.120222</td>\n",
       "    </tr>\n",
       "  </tbody>\n",
       "</table>\n",
       "<p>2 rows × 115 columns</p>\n",
       "</div>"
      ],
      "text/plain": [
       "   SK_ID_CURR  TARGET NAME_CONTRACT_TYPE CODE_GENDER  FLAG_OWN_CAR  \\\n",
       "0      100002       1         Cash loans           M             0   \n",
       "1      100003       0         Cash loans           F             0   \n",
       "\n",
       "   FLAG_OWN_REALTY  CNT_CHILDREN  AMT_INCOME_TOTAL  AMT_CREDIT  AMT_ANNUITY  \\\n",
       "0                1             0          202500.0    406597.5      24700.5   \n",
       "1                0             0          270000.0   1293502.5      35698.5   \n",
       "\n",
       "   ...  PREVAPP_DAYS_LAST_DUE_1ST_VERSION_LAST PREVAPP_DAYS_LAST_DUE_LAST  \\\n",
       "0  ...                                   125.0                      -25.0   \n",
       "1  ...                                 -1980.0                    -1980.0   \n",
       "\n",
       "  PREVAPP_AMT_DECLINED_LAST  PREVAPP_AMT_CREDIT_GOODS_RATIO_LAST  \\\n",
       "0                       0.0                             1.000000   \n",
       "1                     756.0                             0.989013   \n",
       "\n",
       "  PREVAPP_AMT_CREDIT_GOODS_DIFF_LAST  \\\n",
       "0                                0.0   \n",
       "1                             -756.0   \n",
       "\n",
       "  PREVAPP_AMT_CREDIT_APPLICATION_RATIO_LAST  \\\n",
       "0                                  1.000000   \n",
       "1                                  1.011109   \n",
       "\n",
       "   PREVAPP_CREDIT_DOWNPAYMENT_RATIO_LAST  PREVAPP_GOOD_DOWNPAYMET_RATIO_LAST  \\\n",
       "0                                0.00000                            0.000000   \n",
       "1                                0.10117                            0.100059   \n",
       "\n",
       "   PREVAPP_ANNUITY_LAST  PREVAPP_ANNUITY_GOODS_LAST  \n",
       "0           7460.621891                 7460.621891  \n",
       "1           5671.120274                 5734.120222  \n",
       "\n",
       "[2 rows x 115 columns]"
      ]
     },
     "execution_count": 31,
     "metadata": {},
     "output_type": "execute_result"
    }
   ],
   "source": [
    "data_sample.head(2)"
   ]
  },
  {
   "cell_type": "code",
   "execution_count": 32,
   "id": "47f7511f",
   "metadata": {},
   "outputs": [
    {
     "name": "stdout",
     "output_type": "stream",
     "text": [
      "<class 'pandas.core.frame.DataFrame'>\n",
      "Int64Index: 200 entries, 0 to 199\n",
      "Columns: 115 entries, SK_ID_CURR to PREVAPP_ANNUITY_GOODS_LAST\n",
      "dtypes: bool(1), float64(64), int64(42), object(8)\n",
      "memory usage: 179.9+ KB\n"
     ]
    }
   ],
   "source": [
    "data_sample.info()"
   ]
  },
  {
   "cell_type": "code",
   "execution_count": 33,
   "id": "963c1771",
   "metadata": {},
   "outputs": [],
   "source": [
    "data_sample.to_csv('data_sample.csv')"
   ]
  },
  {
   "cell_type": "code",
   "execution_count": 34,
   "id": "5398a933",
   "metadata": {},
   "outputs": [],
   "source": [
    "#data_sample.drop(['FLAG_DOCUMENT_15'], axis=1, inplace=True)"
   ]
  },
  {
   "cell_type": "code",
   "execution_count": 35,
   "id": "8ca3eb97",
   "metadata": {},
   "outputs": [],
   "source": [
    "data=data_sample"
   ]
  },
  {
   "cell_type": "code",
   "execution_count": 36,
   "id": "7d5d27c2",
   "metadata": {},
   "outputs": [
    {
     "name": "stderr",
     "output_type": "stream",
     "text": [
      "C:\\Users\\mina\\anaconda3_env\\lib\\site-packages\\sklearn\\preprocessing\\_data.py:2995: RuntimeWarning: divide by zero encountered in log\n",
      "  loglike = -n_samples / 2 * np.log(x_trans.var())\n"
     ]
    },
    {
     "data": {
      "text/plain": [
       "Pipeline(steps=[('imp_med', SimpleImputer(strategy='median')),\n",
       "                ('scaler', StandardScaler()),\n",
       "                ('transformer', PowerTransformer())])"
      ]
     },
     "execution_count": 36,
     "metadata": {},
     "output_type": "execute_result"
    }
   ],
   "source": [
    "# Prepare preprocessing for numerical variables\n",
    "categorical_var = [col for col in data.columns if data.dtypes[col] == 'object']\n",
    "numerical_var = [col for col in data.columns if (col not in categorical_var) and (col != 'TARGET') and (col != 'SK_ID_CURR')]\n",
    "\n",
    "pp_num_pipeline = Pipeline([\n",
    "            ('imp_med', SimpleImputer(missing_values=np.nan, strategy='median')),\n",
    "            ('scaler', StandardScaler()),\n",
    "            ('transformer',PowerTransformer(method='yeo-johnson') )\n",
    "                        ])\n",
    "\n",
    "pp_num_pipeline.fit(data[numerical_var])"
   ]
  },
  {
   "cell_type": "code",
   "execution_count": 37,
   "id": "a91d71f7",
   "metadata": {},
   "outputs": [],
   "source": [
    "# save pipeline for numerical variables preprocessing\n",
    "pickle.dump(pp_num_pipeline, open('preprocess_numerical.pkl','wb'))"
   ]
  },
  {
   "cell_type": "code",
   "execution_count": 38,
   "id": "5193e600",
   "metadata": {},
   "outputs": [],
   "source": [
    "data_pp = preprocessing_data(data)"
   ]
  },
  {
   "cell_type": "code",
   "execution_count": 39,
   "id": "b4af2f40",
   "metadata": {},
   "outputs": [
    {
     "data": {
      "text/plain": [
       "(200, 35)"
      ]
     },
     "execution_count": 39,
     "metadata": {},
     "output_type": "execute_result"
    }
   ],
   "source": [
    "data_pp.shape"
   ]
  },
  {
   "cell_type": "code",
   "execution_count": null,
   "id": "ea618289",
   "metadata": {},
   "outputs": [],
   "source": []
  },
  {
   "cell_type": "code",
   "execution_count": 40,
   "id": "5c4e903d",
   "metadata": {},
   "outputs": [
    {
     "data": {
      "text/html": [
       "<div>\n",
       "<style scoped>\n",
       "    .dataframe tbody tr th:only-of-type {\n",
       "        vertical-align: middle;\n",
       "    }\n",
       "\n",
       "    .dataframe tbody tr th {\n",
       "        vertical-align: top;\n",
       "    }\n",
       "\n",
       "    .dataframe thead th {\n",
       "        text-align: right;\n",
       "    }\n",
       "</style>\n",
       "<table border=\"1\" class=\"dataframe\">\n",
       "  <thead>\n",
       "    <tr style=\"text-align: right;\">\n",
       "      <th></th>\n",
       "      <th>DAYS_BIRTH</th>\n",
       "      <th>INCOME_ANNUITY_DIFF</th>\n",
       "      <th>PREVAPP_AMT_ANNUITY_LAST</th>\n",
       "      <th>ANNUITY_INCOME_RATIO</th>\n",
       "      <th>FLAG_EMP_PHONE</th>\n",
       "      <th>BUREAU_TOTAL_DEBT</th>\n",
       "      <th>REGION_POPULATION_RELATIVE</th>\n",
       "      <th>REG_CITY_NOT_LIVE_CITY</th>\n",
       "      <th>REGION_RATING_CLIENT_W_CITY</th>\n",
       "      <th>PREVAPP_AMT_CREDIT_GOODS_DIFF_LAST</th>\n",
       "      <th>...</th>\n",
       "      <th>FLAG_DOCUMENT_3</th>\n",
       "      <th>BUREAU_DAYS_DIFF_AVG</th>\n",
       "      <th>DAYS_ID_PUBLISH</th>\n",
       "      <th>BUREAU_ACTIVE_LOANS_PCT</th>\n",
       "      <th>PREVAPP_DAYS_LAST_DUE_1ST_VERSION_LAST</th>\n",
       "      <th>NAME_INCOME_TYPE_Working</th>\n",
       "      <th>BUREAU_TOTAL_CREDIT</th>\n",
       "      <th>CREDIT_TERM</th>\n",
       "      <th>PREVAPP_SK_ID_PREV_COUNT</th>\n",
       "      <th>CODE_GENDER_F</th>\n",
       "    </tr>\n",
       "  </thead>\n",
       "  <tbody>\n",
       "    <tr>\n",
       "      <th>0</th>\n",
       "      <td>1.628112</td>\n",
       "      <td>0.820688</td>\n",
       "      <td>-0.258173</td>\n",
       "      <td>-0.600394</td>\n",
       "      <td>0.403473</td>\n",
       "      <td>0.029527</td>\n",
       "      <td>0.063933</td>\n",
       "      <td>-0.252646</td>\n",
       "      <td>-0.014904</td>\n",
       "      <td>-0.216157</td>\n",
       "      <td>...</td>\n",
       "      <td>0.631349</td>\n",
       "      <td>-0.148467</td>\n",
       "      <td>0.521082</td>\n",
       "      <td>-0.358135</td>\n",
       "      <td>-0.213533</td>\n",
       "      <td>1</td>\n",
       "      <td>-0.035846</td>\n",
       "      <td>-0.700227</td>\n",
       "      <td>-1.531288</td>\n",
       "      <td>0</td>\n",
       "    </tr>\n",
       "    <tr>\n",
       "      <th>1</th>\n",
       "      <td>-0.294252</td>\n",
       "      <td>1.319203</td>\n",
       "      <td>-0.725233</td>\n",
       "      <td>-0.435443</td>\n",
       "      <td>0.403473</td>\n",
       "      <td>-1.066183</td>\n",
       "      <td>-1.828162</td>\n",
       "      <td>-0.252646</td>\n",
       "      <td>-2.290149</td>\n",
       "      <td>-0.254715</td>\n",
       "      <td>...</td>\n",
       "      <td>0.631349</td>\n",
       "      <td>1.282137</td>\n",
       "      <td>1.572018</td>\n",
       "      <td>-0.358135</td>\n",
       "      <td>-0.528144</td>\n",
       "      <td>0</td>\n",
       "      <td>0.160956</td>\n",
       "      <td>1.797081</td>\n",
       "      <td>-0.377204</td>\n",
       "      <td>1</td>\n",
       "    </tr>\n",
       "    <tr>\n",
       "      <th>2</th>\n",
       "      <td>-0.801425</td>\n",
       "      <td>-1.378685</td>\n",
       "      <td>-1.016469</td>\n",
       "      <td>-0.976307</td>\n",
       "      <td>0.403473</td>\n",
       "      <td>-1.066183</td>\n",
       "      <td>-0.918708</td>\n",
       "      <td>-0.252646</td>\n",
       "      <td>-0.014904</td>\n",
       "      <td>-0.436631</td>\n",
       "      <td>...</td>\n",
       "      <td>-1.583910</td>\n",
       "      <td>1.174958</td>\n",
       "      <td>0.263312</td>\n",
       "      <td>-1.492935</td>\n",
       "      <td>-0.332776</td>\n",
       "      <td>1</td>\n",
       "      <td>-1.201716</td>\n",
       "      <td>-0.167322</td>\n",
       "      <td>-1.531288</td>\n",
       "      <td>0</td>\n",
       "    </tr>\n",
       "    <tr>\n",
       "      <th>3</th>\n",
       "      <td>-0.792610</td>\n",
       "      <td>-0.274706</td>\n",
       "      <td>1.520386</td>\n",
       "      <td>0.684347</td>\n",
       "      <td>0.403473</td>\n",
       "      <td>-0.212143</td>\n",
       "      <td>-1.185053</td>\n",
       "      <td>-0.252646</td>\n",
       "      <td>-0.014904</td>\n",
       "      <td>2.954022</td>\n",
       "      <td>...</td>\n",
       "      <td>0.631349</td>\n",
       "      <td>0.004670</td>\n",
       "      <td>0.323243</td>\n",
       "      <td>-0.037647</td>\n",
       "      <td>-0.262556</td>\n",
       "      <td>1</td>\n",
       "      <td>-0.055975</td>\n",
       "      <td>-1.671453</td>\n",
       "      <td>1.229691</td>\n",
       "      <td>1</td>\n",
       "    </tr>\n",
       "    <tr>\n",
       "      <th>4</th>\n",
       "      <td>-0.989672</td>\n",
       "      <td>-0.396683</td>\n",
       "      <td>1.086273</td>\n",
       "      <td>0.238933</td>\n",
       "      <td>0.403473</td>\n",
       "      <td>-1.066183</td>\n",
       "      <td>0.817679</td>\n",
       "      <td>-0.252646</td>\n",
       "      <td>-0.014904</td>\n",
       "      <td>0.366246</td>\n",
       "      <td>...</td>\n",
       "      <td>-1.583910</td>\n",
       "      <td>-1.561578</td>\n",
       "      <td>-0.365519</td>\n",
       "      <td>-1.492935</td>\n",
       "      <td>-0.340481</td>\n",
       "      <td>1</td>\n",
       "      <td>-1.293101</td>\n",
       "      <td>0.309164</td>\n",
       "      <td>0.680770</td>\n",
       "      <td>0</td>\n",
       "    </tr>\n",
       "  </tbody>\n",
       "</table>\n",
       "<p>5 rows × 35 columns</p>\n",
       "</div>"
      ],
      "text/plain": [
       "   DAYS_BIRTH  INCOME_ANNUITY_DIFF  PREVAPP_AMT_ANNUITY_LAST  \\\n",
       "0    1.628112             0.820688                 -0.258173   \n",
       "1   -0.294252             1.319203                 -0.725233   \n",
       "2   -0.801425            -1.378685                 -1.016469   \n",
       "3   -0.792610            -0.274706                  1.520386   \n",
       "4   -0.989672            -0.396683                  1.086273   \n",
       "\n",
       "   ANNUITY_INCOME_RATIO  FLAG_EMP_PHONE  BUREAU_TOTAL_DEBT  \\\n",
       "0             -0.600394        0.403473           0.029527   \n",
       "1             -0.435443        0.403473          -1.066183   \n",
       "2             -0.976307        0.403473          -1.066183   \n",
       "3              0.684347        0.403473          -0.212143   \n",
       "4              0.238933        0.403473          -1.066183   \n",
       "\n",
       "   REGION_POPULATION_RELATIVE  REG_CITY_NOT_LIVE_CITY  \\\n",
       "0                    0.063933               -0.252646   \n",
       "1                   -1.828162               -0.252646   \n",
       "2                   -0.918708               -0.252646   \n",
       "3                   -1.185053               -0.252646   \n",
       "4                    0.817679               -0.252646   \n",
       "\n",
       "   REGION_RATING_CLIENT_W_CITY  PREVAPP_AMT_CREDIT_GOODS_DIFF_LAST  ...  \\\n",
       "0                    -0.014904                           -0.216157  ...   \n",
       "1                    -2.290149                           -0.254715  ...   \n",
       "2                    -0.014904                           -0.436631  ...   \n",
       "3                    -0.014904                            2.954022  ...   \n",
       "4                    -0.014904                            0.366246  ...   \n",
       "\n",
       "   FLAG_DOCUMENT_3  BUREAU_DAYS_DIFF_AVG  DAYS_ID_PUBLISH  \\\n",
       "0         0.631349             -0.148467         0.521082   \n",
       "1         0.631349              1.282137         1.572018   \n",
       "2        -1.583910              1.174958         0.263312   \n",
       "3         0.631349              0.004670         0.323243   \n",
       "4        -1.583910             -1.561578        -0.365519   \n",
       "\n",
       "   BUREAU_ACTIVE_LOANS_PCT  PREVAPP_DAYS_LAST_DUE_1ST_VERSION_LAST  \\\n",
       "0                -0.358135                               -0.213533   \n",
       "1                -0.358135                               -0.528144   \n",
       "2                -1.492935                               -0.332776   \n",
       "3                -0.037647                               -0.262556   \n",
       "4                -1.492935                               -0.340481   \n",
       "\n",
       "   NAME_INCOME_TYPE_Working  BUREAU_TOTAL_CREDIT  CREDIT_TERM  \\\n",
       "0                         1            -0.035846    -0.700227   \n",
       "1                         0             0.160956     1.797081   \n",
       "2                         1            -1.201716    -0.167322   \n",
       "3                         1            -0.055975    -1.671453   \n",
       "4                         1            -1.293101     0.309164   \n",
       "\n",
       "   PREVAPP_SK_ID_PREV_COUNT  CODE_GENDER_F  \n",
       "0                 -1.531288              0  \n",
       "1                 -0.377204              1  \n",
       "2                 -1.531288              0  \n",
       "3                  1.229691              1  \n",
       "4                  0.680770              0  \n",
       "\n",
       "[5 rows x 35 columns]"
      ]
     },
     "execution_count": 40,
     "metadata": {},
     "output_type": "execute_result"
    }
   ],
   "source": [
    "data_pp.head()"
   ]
  },
  {
   "cell_type": "raw",
   "id": "eb8d303a",
   "metadata": {},
   "source": [
    "data_pp.columns"
   ]
  },
  {
   "cell_type": "raw",
   "id": "f2856618",
   "metadata": {},
   "source": [
    "data_pp.info()"
   ]
  },
  {
   "cell_type": "raw",
   "id": "9e2506ca",
   "metadata": {},
   "source": [
    "cols = ['DAYS_BIRTH', 'INCOME_ANNUITY_DIFF', 'PREVAPP_AMT_ANNUITY_LAST',\n",
    "       'ANNUITY_INCOME_RATIO', 'FLAG_EMP_PHONE', 'BUREAU_TOTAL_DEBT',\n",
    "       'REGION_POPULATION_RELATIVE', 'REG_CITY_NOT_LIVE_CITY', 'CODE_GENDER_F',\n",
    "       'REGION_RATING_CLIENT_W_CITY', 'PREVAPP_AMT_CREDIT_GOODS_DIFF_LAST',\n",
    "       'REG_CITY_NOT_WORK_CITY', 'BUREAU_RATIO_DEBT_CREDIT',\n",
    "       'DAYS_LAST_PHONE_CHANGE', 'EXT_SOURCE_1',\n",
    "       'CREDIT_GOODS_RATIO', 'BUREAU_COUNT', 'NAME_EDUCATION_TYPE',\n",
    "       'OCCUPATION_TYPE_Laborers', 'AMT_GOODS_PRICE', 'OCCUPATION_TYPE_XNA',\n",
    "       'EXT_SOURCE_2', 'DAYS_EMPLOYED_RATIO', 'PREVAPP_AMT_DECLINED_LAST',\n",
    "       'DAYS_REGISTRATION', 'PREVAPP_ANNUITY_GOODS_LAST', 'FLAG_DOCUMENT_3',\n",
    "       'BUREAU_DAYS_DIFF_AVG', 'DAYS_ID_PUBLISH', 'BUREAU_ACTIVE_LOANS_PCT',\n",
    "       'PREVAPP_DAYS_LAST_DUE_1ST_VERSION_LAST', 'NAME_INCOME_TYPE_Working',\n",
    "       'BUREAU_TOTAL_CREDIT', 'CREDIT_TERM']"
   ]
  },
  {
   "cell_type": "raw",
   "id": "553924c9",
   "metadata": {},
   "source": [
    "#colonnes enlevées\n",
    "'CODE_GENDER_F'\n",
    "'OCCUPATION_TYPE_Laborers'\n",
    "'NAME_INCOME_TYPE_Working'"
   ]
  },
  {
   "cell_type": "code",
   "execution_count": 41,
   "id": "ed7e624d",
   "metadata": {},
   "outputs": [],
   "source": [
    "# drop\n",
    "# synthaxe : df.drop(['column_nameA', 'column_nameB'], axis=1, inplace=True)\n",
    "# 'CODE_GENDER_F','OCCUPATION_TYPE_Laborers','NAME_INCOME_TYPE_Working'\n",
    "#data_pp.drop(['OCCUPATION_TYPE_Laborers'], axis=1, inplace=True)"
   ]
  },
  {
   "cell_type": "code",
   "execution_count": 42,
   "id": "13b1fe75",
   "metadata": {},
   "outputs": [
    {
     "data": {
      "text/plain": [
       "(200, 35)"
      ]
     },
     "execution_count": 42,
     "metadata": {},
     "output_type": "execute_result"
    }
   ],
   "source": [
    "data_pp.shape"
   ]
  },
  {
   "cell_type": "code",
   "execution_count": 43,
   "id": "13164964",
   "metadata": {},
   "outputs": [],
   "source": [
    "# save\n",
    "data_pp.to_csv('data_pp.csv')"
   ]
  },
  {
   "cell_type": "code",
   "execution_count": 44,
   "id": "3cf74e91",
   "metadata": {},
   "outputs": [],
   "source": [
    "# Select variables and filter data for dashboard\n",
    "selected_features = ['DAYS_BIRTH', 'INCOME_ANNUITY_DIFF', 'PREVAPP_AMT_ANNUITY_LAST',\n",
    "       'ANNUITY_INCOME_RATIO', 'FLAG_EMP_PHONE', 'BUREAU_TOTAL_DEBT',\n",
    "       'REGION_POPULATION_RELATIVE', 'REG_CITY_NOT_LIVE_CITY',\n",
    "       'REGION_RATING_CLIENT_W_CITY', 'PREVAPP_AMT_CREDIT_GOODS_DIFF_LAST',\n",
    "       'REG_CITY_NOT_WORK_CITY', 'BUREAU_RATIO_DEBT_CREDIT',\n",
    "       'DAYS_LAST_PHONE_CHANGE', 'EXT_SOURCE_1','PREVAPP_SK_ID_PREV_COUNT',\n",
    "       'CREDIT_GOODS_RATIO', 'BUREAU_COUNT', 'NAME_EDUCATION_TYPE','AMT_GOODS_PRICE',\n",
    "       'EXT_SOURCE_2', 'DAYS_EMPLOYED_RATIO', 'PREVAPP_AMT_DECLINED_LAST',\n",
    "       'DAYS_REGISTRATION', 'PREVAPP_ANNUITY_GOODS_LAST', 'FLAG_DOCUMENT_3',\n",
    "       'BUREAU_DAYS_DIFF_AVG', 'DAYS_ID_PUBLISH', 'BUREAU_ACTIVE_LOANS_PCT',\n",
    "       'PREVAPP_DAYS_LAST_DUE_1ST_VERSION_LAST',\n",
    "       'BUREAU_TOTAL_CREDIT', 'CREDIT_TERM']\n",
    "\n",
    "#non retiré\n",
    "# 'PREVAPP_SK_ID_PREV_COUNT',\n",
    "\n",
    "#data_selection = data[['TARGET'] + selected_features]\n",
    "data_selection_init = data[['TARGET'] + selected_features]"
   ]
  },
  {
   "cell_type": "code",
   "execution_count": 45,
   "id": "93a90263",
   "metadata": {},
   "outputs": [
    {
     "data": {
      "text/plain": [
       "(200, 32)"
      ]
     },
     "execution_count": 45,
     "metadata": {},
     "output_type": "execute_result"
    }
   ],
   "source": [
    "data_selection_init.shape"
   ]
  },
  {
   "cell_type": "code",
   "execution_count": 46,
   "id": "3b6201b1",
   "metadata": {},
   "outputs": [
    {
     "data": {
      "text/plain": [
       "(200, 32)"
      ]
     },
     "execution_count": 46,
     "metadata": {},
     "output_type": "execute_result"
    }
   ],
   "source": [
    "data_selection_sample = data_selection_init.head(nb_rows)\n",
    "data_selection_sample.shape"
   ]
  },
  {
   "cell_type": "code",
   "execution_count": 47,
   "id": "c9619d35",
   "metadata": {},
   "outputs": [],
   "source": [
    "data_selection = data_selection_sample"
   ]
  },
  {
   "cell_type": "code",
   "execution_count": 48,
   "id": "aada4b5c",
   "metadata": {},
   "outputs": [],
   "source": [
    "# save\n",
    "data_selection.to_csv('data_compare_clients.csv')"
   ]
  },
  {
   "cell_type": "code",
   "execution_count": 49,
   "id": "02e47ad1",
   "metadata": {},
   "outputs": [
    {
     "data": {
      "text/plain": [
       "0      1\n",
       "1      0\n",
       "2      0\n",
       "3      0\n",
       "4      0\n",
       "      ..\n",
       "195    0\n",
       "196    0\n",
       "197    0\n",
       "198    0\n",
       "199    0\n",
       "Name: TARGET, Length: 200, dtype: int64"
      ]
     },
     "execution_count": 49,
     "metadata": {},
     "output_type": "execute_result"
    }
   ],
   "source": [
    "data['TARGET']"
   ]
  },
  {
   "cell_type": "markdown",
   "id": "1db265b2",
   "metadata": {},
   "source": [
    "# Fit and save final model"
   ]
  },
  {
   "cell_type": "code",
   "execution_count": 50,
   "id": "15a74eb8",
   "metadata": {},
   "outputs": [],
   "source": [
    "import lightgbm as lgbm"
   ]
  },
  {
   "cell_type": "code",
   "execution_count": 51,
   "id": "d25ed846",
   "metadata": {},
   "outputs": [],
   "source": [
    "# final model tuned with Pycaret\n",
    "model_lgbm = lgbm.LGBMClassifier(bagging_fraction=0.7, bagging_freq=6, boosting_type='gbdt',\n",
    "               class_weight='balanced', colsample_bytree=1.0,\n",
    "               feature_fraction=0.5, importance_type='split', learning_rate=0.1,\n",
    "               max_depth=-1, min_child_samples=66, min_child_weight=0.001,\n",
    "               min_split_gain=0.4, n_estimators=90, n_jobs=-1, num_leaves=90,\n",
    "               objective=None, random_state=123, reg_alpha=0.0005,\n",
    "               reg_lambda=0.1, silent=True, subsample=1.0,\n",
    "               subsample_for_bin=200000, subsample_freq=0)"
   ]
  },
  {
   "cell_type": "code",
   "execution_count": 52,
   "id": "2b2cde25",
   "metadata": {},
   "outputs": [
    {
     "name": "stdout",
     "output_type": "stream",
     "text": [
      "[LightGBM] [Warning] feature_fraction is set=0.5, colsample_bytree=1.0 will be ignored. Current value: feature_fraction=0.5\n",
      "[LightGBM] [Warning] bagging_fraction is set=0.7, subsample=1.0 will be ignored. Current value: bagging_fraction=0.7\n",
      "[LightGBM] [Warning] bagging_freq is set=6, subsample_freq=0 will be ignored. Current value: bagging_freq=6\n"
     ]
    },
    {
     "data": {
      "text/plain": [
       "LGBMClassifier(bagging_fraction=0.7, bagging_freq=6, class_weight='balanced',\n",
       "               feature_fraction=0.5, min_child_samples=66, min_split_gain=0.4,\n",
       "               n_estimators=90, num_leaves=90, random_state=123,\n",
       "               reg_alpha=0.0005, reg_lambda=0.1)"
      ]
     },
     "execution_count": 52,
     "metadata": {},
     "output_type": "execute_result"
    }
   ],
   "source": [
    "model_lgbm.fit(data_pp, data['TARGET'])"
   ]
  },
  {
   "cell_type": "code",
   "execution_count": 53,
   "id": "3af71748",
   "metadata": {},
   "outputs": [],
   "source": [
    "# save preprocessing\n",
    "pickle.dump(model_lgbm, open('lgbm_model.pkl','wb'))"
   ]
  },
  {
   "cell_type": "code",
   "execution_count": null,
   "id": "18811fd9",
   "metadata": {},
   "outputs": [],
   "source": []
  },
  {
   "cell_type": "code",
   "execution_count": null,
   "id": "26b50c6e",
   "metadata": {},
   "outputs": [],
   "source": []
  },
  {
   "cell_type": "code",
   "execution_count": null,
   "id": "f326276c",
   "metadata": {},
   "outputs": [],
   "source": []
  },
  {
   "cell_type": "code",
   "execution_count": null,
   "id": "108eef6b",
   "metadata": {},
   "outputs": [],
   "source": []
  }
 ],
 "metadata": {
  "kernelspec": {
   "display_name": "Python 3",
   "language": "python",
   "name": "python3"
  },
  "language_info": {
   "codemirror_mode": {
    "name": "ipython",
    "version": 3
   },
   "file_extension": ".py",
   "mimetype": "text/x-python",
   "name": "python",
   "nbconvert_exporter": "python",
   "pygments_lexer": "ipython3",
   "version": "3.8.8"
  },
  "toc": {
   "base_numbering": 1,
   "nav_menu": {},
   "number_sections": true,
   "sideBar": true,
   "skip_h1_title": false,
   "title_cell": "Table of Contents",
   "title_sidebar": "Contents",
   "toc_cell": false,
   "toc_position": {},
   "toc_section_display": true,
   "toc_window_display": false
  }
 },
 "nbformat": 4,
 "nbformat_minor": 5
}
